{
 "cells": [
  {
   "cell_type": "code",
   "execution_count": 113,
   "id": "6ea99396",
   "metadata": {},
   "outputs": [],
   "source": [
    "import mne\n",
    "import numpy as np\n",
    "import pandas as pd\n",
    "import os\n",
    "from scipy import signal\n",
    "from matplotlib import pyplot as plt"
   ]
  },
  {
   "cell_type": "markdown",
   "id": "b54a11dc",
   "metadata": {},
   "source": [
    "# What is this file\n",
    "\n",
    "This is my first try to process our Unicorn recordings into a format suitable for the TinySleepNet model. It takes one CSV file and saves a NPZ file which should be ready to give to the `predict.py` of TinySleepNet.\n",
    "\n",
    "### NOT YET TESTED!"
   ]
  },
  {
   "cell_type": "markdown",
   "id": "ab99c150",
   "metadata": {},
   "source": [
    "# Main info\n",
    "\n",
    "TiniSleepNet uses the Fpz-Cz channel for predictions. That means, the informative channel is Fpz and the reference is Cz.\n",
    "\n",
    "Unicorn does not provide Fpz channel. Fpz-Cz is unavailable for us.\n",
    "\n",
    "The other channel in the training data is Pz-Oz. We can use it instead.\n",
    "\n",
    "So, we need to re-train the TiniSleepNet on this channel."
   ]
  },
  {
   "cell_type": "markdown",
   "id": "37e56a58",
   "metadata": {},
   "source": [
    "## Read the CSV data"
   ]
  },
  {
   "cell_type": "code",
   "execution_count": 117,
   "id": "0e64aef8",
   "metadata": {},
   "outputs": [
    {
     "name": "stdout",
     "output_type": "stream",
     "text": [
      "(1616168, 9)\n"
     ]
    },
    {
     "data": {
      "text/html": [
       "<div>\n",
       "<style scoped>\n",
       "    .dataframe tbody tr th:only-of-type {\n",
       "        vertical-align: middle;\n",
       "    }\n",
       "\n",
       "    .dataframe tbody tr th {\n",
       "        vertical-align: top;\n",
       "    }\n",
       "\n",
       "    .dataframe thead th {\n",
       "        text-align: right;\n",
       "    }\n",
       "</style>\n",
       "<table border=\"1\" class=\"dataframe\">\n",
       "  <thead>\n",
       "    <tr style=\"text-align: right;\">\n",
       "      <th></th>\n",
       "      <th>Fz</th>\n",
       "      <th>C3</th>\n",
       "      <th>Cz</th>\n",
       "      <th>C4</th>\n",
       "      <th>Pz</th>\n",
       "      <th>PO7</th>\n",
       "      <th>Oz</th>\n",
       "      <th>PO8</th>\n",
       "      <th>validation</th>\n",
       "    </tr>\n",
       "  </thead>\n",
       "  <tbody>\n",
       "    <tr>\n",
       "      <th>0</th>\n",
       "      <td>-2.578</td>\n",
       "      <td>2.762</td>\n",
       "      <td>40.579</td>\n",
       "      <td>12.129</td>\n",
       "      <td>-12.545</td>\n",
       "      <td>-2.202</td>\n",
       "      <td>3.852</td>\n",
       "      <td>-7.365</td>\n",
       "      <td>1.0</td>\n",
       "    </tr>\n",
       "    <tr>\n",
       "      <th>1</th>\n",
       "      <td>-1.209</td>\n",
       "      <td>3.399</td>\n",
       "      <td>-7.059</td>\n",
       "      <td>16.379</td>\n",
       "      <td>-11.112</td>\n",
       "      <td>-0.630</td>\n",
       "      <td>5.994</td>\n",
       "      <td>-7.360</td>\n",
       "      <td>1.0</td>\n",
       "    </tr>\n",
       "    <tr>\n",
       "      <th>2</th>\n",
       "      <td>-0.747</td>\n",
       "      <td>3.379</td>\n",
       "      <td>-58.926</td>\n",
       "      <td>18.547</td>\n",
       "      <td>-7.593</td>\n",
       "      <td>-0.454</td>\n",
       "      <td>6.627</td>\n",
       "      <td>-8.228</td>\n",
       "      <td>1.0</td>\n",
       "    </tr>\n",
       "    <tr>\n",
       "      <th>3</th>\n",
       "      <td>-1.030</td>\n",
       "      <td>3.298</td>\n",
       "      <td>-92.135</td>\n",
       "      <td>17.661</td>\n",
       "      <td>-2.965</td>\n",
       "      <td>-1.718</td>\n",
       "      <td>5.487</td>\n",
       "      <td>-9.482</td>\n",
       "      <td>1.0</td>\n",
       "    </tr>\n",
       "    <tr>\n",
       "      <th>4</th>\n",
       "      <td>-1.631</td>\n",
       "      <td>3.095</td>\n",
       "      <td>-90.644</td>\n",
       "      <td>14.166</td>\n",
       "      <td>0.671</td>\n",
       "      <td>-3.821</td>\n",
       "      <td>3.117</td>\n",
       "      <td>-10.496</td>\n",
       "      <td>1.0</td>\n",
       "    </tr>\n",
       "  </tbody>\n",
       "</table>\n",
       "</div>"
      ],
      "text/plain": [
       "      Fz     C3      Cz      C4      Pz    PO7     Oz     PO8  validation\n",
       "0 -2.578  2.762  40.579  12.129 -12.545 -2.202  3.852  -7.365         1.0\n",
       "1 -1.209  3.399  -7.059  16.379 -11.112 -0.630  5.994  -7.360         1.0\n",
       "2 -0.747  3.379 -58.926  18.547  -7.593 -0.454  6.627  -8.228         1.0\n",
       "3 -1.030  3.298 -92.135  17.661  -2.965 -1.718  5.487  -9.482         1.0\n",
       "4 -1.631  3.095 -90.644  14.166   0.671 -3.821  3.117 -10.496         1.0"
      ]
     },
     "execution_count": 117,
     "metadata": {},
     "output_type": "execute_result"
    }
   ],
   "source": [
    "path = 'data/test.csv'\n",
    "df = pd.read_csv(path, usecols=['EEG 1', 'EEG 2', 'EEG 3', 'EEG 4',\n",
    "                                'EEG 5', 'EEG 6', 'EEG 7', 'EEG 8',\n",
    "                                'Validation Indicator'])\n",
    "\n",
    "unicorn_ch_names = ['Fz', 'C3', 'Cz', 'C4', 'Pz', 'PO7', 'Oz', 'PO8']\n",
    "df.columns = unicorn_ch_names + ['validation']\n",
    "\n",
    "df[unicorn_ch_names] = df[unicorn_ch_names]\n",
    "# TODO: recheck if we need to do this step in this case!!\n",
    "\n",
    "print(df.shape)\n",
    "df.head()"
   ]
  },
  {
   "cell_type": "markdown",
   "id": "7e7aef1d",
   "metadata": {},
   "source": [
    "### Rereferencing to get Pz-Oz"
   ]
  },
  {
   "cell_type": "code",
   "execution_count": 158,
   "id": "3ee7390c",
   "metadata": {},
   "outputs": [],
   "source": [
    "Pz_Oz = df['Pz'] - df['Oz']"
   ]
  },
  {
   "cell_type": "markdown",
   "id": "319e0b4f",
   "metadata": {},
   "source": [
    "### Getting only good segments"
   ]
  },
  {
   "cell_type": "code",
   "execution_count": 122,
   "id": "49162b2b",
   "metadata": {},
   "outputs": [
    {
     "name": "stdout",
     "output_type": "stream",
     "text": [
      "N segments: 2722 with length from 7 to 604967 points\n"
     ]
    }
   ],
   "source": [
    "good_data = []\n",
    "idx = df[df['validation'].diff().isin([1, -1])].index.tolist()\n",
    "idx.insert(0, 0)\n",
    "idx.append(len(df))\n",
    "\n",
    "for i_start, i_end in zip(idx[::2], idx[1::2]):\n",
    "    good_data.append(Pz_Oz[i_start:i_end-1])\n",
    "    \n",
    "lens = [len(x) for x in good_data]\n",
    "print(f'N segments: {len(good_data)} with length from {min(lens)} to {max(lens)} points')"
   ]
  },
  {
   "cell_type": "markdown",
   "id": "1c538838",
   "metadata": {},
   "source": [
    "#### Sanity check\n",
    "Plot some segments to see where they are"
   ]
  },
  {
   "cell_type": "code",
   "execution_count": 157,
   "id": "15de7a6f",
   "metadata": {},
   "outputs": [
    {
     "data": {
      "image/png": "[encoded data removed]",
      "text/plain": [
       "<Figure size 1152x288 with 1 Axes>"
      ]
     },
     "metadata": {
      "needs_background": "light"
     },
     "output_type": "display_data"
    }
   ],
   "source": [
    "biggest_segments = np.argsort([len(x) for x in good_data])[-6:] \n",
    "plt.figure(figsize=(16, 4))\n",
    "plt.plot(df['validation'], alpha=.5)   # blue lines show the validation column values\n",
    "for i in range(6):\n",
    "    plt.plot((idx[biggest_segments[i]*2], idx[biggest_segments[i]*2+1]), (.1+(i/10), .1+(i/10)), color='red')"
   ]
  },
  {
   "cell_type": "markdown",
   "id": "164634c3",
   "metadata": {},
   "source": [
    "### Resampling\n",
    "\n",
    "The sampling rate in the model was 100, but we have 250. We need to resample the data first."
   ]
  },
  {
   "cell_type": "code",
   "execution_count": 159,
   "id": "128b241d",
   "metadata": {},
   "outputs": [
    {
     "name": "stdout",
     "output_type": "stream",
     "text": [
      "Resampled segments are with length from 3 to 241987 points\n"
     ]
    }
   ],
   "source": [
    "segments = [signal.resample(x, round(len(x)/250*100)) for x in good_data]\n",
    "lens = [len(x) for x in segments]\n",
    "print(f'Resampled segments are with length from {min(lens)} to {max(lens)} points')"
   ]
  },
  {
   "cell_type": "markdown",
   "id": "36b025a9",
   "metadata": {},
   "source": [
    "### Cutting segments into correct shape for the model\n",
    "\n",
    "**TODO:** scale the data accordingly from uV to ???\n",
    "\n",
    "In the model, each segments contains 30 seconds, that is 3000 time points.\n",
    "\n",
    "All smaller segments should be dropped, and bigger segments - cut into smaller."
   ]
  },
  {
   "cell_type": "code",
   "execution_count": 160,
   "id": "22dd97a7",
   "metadata": {},
   "outputs": [
    {
     "name": "stdout",
     "output_type": "stream",
     "text": [
      "Got 317 segments with length of 3000 points each\n"
     ]
    }
   ],
   "source": [
    "X = []\n",
    "for segment in segments:  # get overlapping segments with 3000 points each (overlap in half)\n",
    "    for i in range(len(segment) // 1500):\n",
    "        X.append(segment[i * 1500 : i * 1500 + 3000])\n",
    "X = [x for x in X if len(x)==3000]\n",
    "print(f'Got {len(X)} segments with length of 3000 points each')"
   ]
  },
  {
   "cell_type": "markdown",
   "id": "7e561e64",
   "metadata": {},
   "source": [
    "### Plot some examples"
   ]
  },
  {
   "cell_type": "code",
   "execution_count": 161,
   "id": "e9b47fcf",
   "metadata": {},
   "outputs": [
    {
     "data": {
      "image/png": "[encoded data removed]",
      "text/plain": [
       "<Figure size 720x720 with 9 Axes>"
      ]
     },
     "metadata": {
      "needs_background": "light"
     },
     "output_type": "display_data"
    }
   ],
   "source": [
    "rand = np.random.choice(range(len(X)), size=9, replace=False)\n",
    "\n",
    "fig, axs = plt.subplots(3, 3, figsize=(10, 10), sharey=True)\n",
    "for i, ax in enumerate(axs.ravel()):\n",
    "    ax.plot(X[rand[i]])"
   ]
  },
  {
   "cell_type": "markdown",
   "id": "5b416255",
   "metadata": {},
   "source": [
    "### Saving the segments in the correct format\n",
    "* X: our segments as an array\n",
    "* Y: some dummy values as we are predicting only\n",
    "* fs: 100\n",
    "* ch_label: 'EEG Pz-Oz'\n",
    "* start_datetime: not important, so some random date\n",
    "* file_duration: the duration of the total file\n",
    "* epoch_duration: 30 s\n",
    "* n_all_epochs: not sure, number of segments? (in the train file, some epochs are dropped of, and this is the number of total epochs)\n",
    "* n_epochs: number of segments"
   ]
  },
  {
   "cell_type": "code",
   "execution_count": 95,
   "id": "b3f523c0",
   "metadata": {},
   "outputs": [],
   "source": [
    "save_dict = {\n",
    "    \"x\": np.array(X), \n",
    "    \"y\": np.array([0] * len(X)), \n",
    "    \"fs\": 100,\n",
    "    \"ch_label\": 'EEG Pz-Oz',\n",
    "    \"start_datetime\": 'none',\n",
    "    \"file_duration\": len(df) // 250,\n",
    "    \"epoch_duration\": 30.0,\n",
    "    \"n_all_epochs\": len(X),\n",
    "    \"n_epochs\": len(X),\n",
    "}\n",
    "filename = 'data/unicorncsv/unicorn_0.npz'\n",
    "np.savez(filename, **save_dict)"
   ]
  },
  {
   "cell_type": "markdown",
   "id": "c97d8551",
   "metadata": {},
   "source": [
    "## OLD: Create MNE object\n",
    "**Note:** it is unnecesarry, as the model uses numpy arrays"
   ]
  },
  {
   "cell_type": "code",
   "execution_count": null,
   "id": "7a9cc7fd",
   "metadata": {},
   "outputs": [],
   "source": [
    "# ch_types = ['eeg'] * 8 + ['stim']\n",
    "\n",
    "# info = mne.create_info(ch_names=df.columns.tolist(), \n",
    "#                        sfreq=250, \n",
    "#                        ch_types=ch_types)\n",
    "# info.set_montage('standard_1020')\n",
    "\n",
    "# raw = mne.io.RawArray(df.transpose(), \n",
    "#                       info)"
   ]
  },
  {
   "cell_type": "code",
   "execution_count": null,
   "id": "201216c0",
   "metadata": {},
   "outputs": [],
   "source": [
    "# raw.plot(duration=1000, start=4000, scalings={'eeg': 5e-4});"
   ]
  },
  {
   "cell_type": "code",
   "execution_count": null,
   "id": "c550856f",
   "metadata": {},
   "outputs": [],
   "source": [
    "# events = mne.find_events(raw, stim_channel='validation', initial_event=True)"
   ]
  }
 ],
 "metadata": {
  "kernelspec": {
   "display_name": "Python 3",
   "language": "python",
   "name": "python3"
  },
  "language_info": {
   "codemirror_mode": {
    "name": "ipython",
    "version": 3
   },
   "file_extension": ".py",
   "mimetype": "text/x-python",
   "name": "python",
   "nbconvert_exporter": "python",
   "pygments_lexer": "ipython3",
   "version": "3.6.13"
  }
 },
 "nbformat": 4,
 "nbformat_minor": 5
}
